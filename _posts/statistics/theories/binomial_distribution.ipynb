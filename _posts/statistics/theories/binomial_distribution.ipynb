{
  "cells": [
    {
      "cell_type": "markdown",
      "metadata": {},
      "source": [
        "# Binomial Distribution - Python Implementation\n",
        "\n",
        "This notebook demonstrates the implementation and applications of the binomial distribution using Python.\n"
      ]
    },
    {
      "cell_type": "markdown",
      "metadata": {},
      "source": [
        "## 1. Basic Implementation\n"
      ]
    },
    {
      "cell_type": "code",
      "execution_count": null,
      "metadata": {},
      "outputs": [],
      "source": [
        "import math\n",
        "\n",
        "def binomial_pmf(n, k, p):\n",
        "    \"\"\"Calculate binomial probability mass function\"\"\"\n",
        "    if k > n or k < 0:\n",
        "        return 0\n",
        "    coefficient = math.comb(n, k)\n",
        "    return coefficient * (p**k) * ((1-p)**(n-k))\n",
        "\n",
        "def binomial_cdf(n, k, p):\n",
        "    \"\"\"Calculate binomial cumulative distribution function\"\"\"\n",
        "    return sum(binomial_pmf(n, i, p) for i in range(k+1))\n",
        "\n",
        "# Example: 10 coin flips, probability of getting exactly 7 heads\n",
        "n, k, p = 10, 7, 0.5\n",
        "probability = binomial_pmf(n, k, p)\n",
        "print(f\"P(X = {k}) = {probability:.4f}\")\n"
      ]
    },
    {
      "cell_type": "markdown",
      "metadata": {},
      "source": [
        "## 2. Distribution Example\n"
      ]
    },
    {
      "cell_type": "code",
      "execution_count": null,
      "metadata": {},
      "outputs": [],
      "source": [
        "import numpy as np\n",
        "from scipy import stats\n",
        "import matplotlib.pyplot as plt\n",
        "\n",
        "# Parameters\n",
        "n, p = 20, 0.3\n",
        "\n",
        "# Generate random samples\n",
        "samples = np.random.binomial(n, p, 100)\n",
        "\n",
        "# Calculate probabilities\n",
        "k_values = range(n+1)\n",
        "probabilities = [stats.binom.pmf(k, n, p) for k in k_values]\n",
        "\n",
        "# Plot\n",
        "plt.figure(figsize=(10, 6))\n",
        "plt.bar(k_values, probabilities)\n",
        "plt.title(f'Binomial Distribution (n={n}, p={p})')\n",
        "plt.xlabel('Number of Successes')\n",
        "plt.ylabel('Probability')\n",
        "plt.show()\n"
      ]
    },
    {
      "cell_type": "markdown",
      "metadata": {},
      "source": [
        "## 3. Key Python Packages\n",
        "\n",
        "### 3.1 SciPy Stats\n"
      ]
    },
    {
      "cell_type": "code",
      "execution_count": null,
      "metadata": {},
      "outputs": [],
      "source": [
        "from scipy import stats\n",
        "\n",
        "# Example usage\n",
        "n, p = 10, 0.3\n",
        "k = 3\n",
        "\n",
        "print(\"SciPy Stats Functions:\")\n",
        "print(f\"PMF: {stats.binom.pmf(k, n, p):.4f}\")    # Probability Mass Function\n",
        "print(f\"CDF: {stats.binom.cdf(k, n, p):.4f}\")    # Cumulative Distribution Function\n",
        "print(f\"PPF (0.5): {stats.binom.ppf(0.5, n, p):.1f}\")    # Quantile function (median)\n",
        "\n",
        "# Random samples\n",
        "samples = stats.binom.rvs(n, p, size=5)\n",
        "print(f\"Random samples: {samples}\")\n"
      ]
    },
    {
      "cell_type": "markdown",
      "metadata": {},
      "source": [
        "### 3.2 NumPy\n"
      ]
    },
    {
      "cell_type": "code",
      "execution_count": null,
      "metadata": {},
      "outputs": [],
      "source": [
        "import numpy as np\n",
        "\n",
        "# Random sampling\n",
        "n, p = 20, 0.4\n",
        "samples = np.random.binomial(n, p, size=10)\n",
        "print(f\"NumPy random samples: {samples}\")\n",
        "print(f\"Mean of samples: {np.mean(samples):.2f}\")\n",
        "print(f\"Expected mean: {n * p:.2f}\")\n"
      ]
    },
    {
      "cell_type": "markdown",
      "metadata": {},
      "source": [
        "### 3.3 Statsmodels\n"
      ]
    },
    {
      "cell_type": "code",
      "execution_count": null,
      "metadata": {},
      "outputs": [],
      "source": [
        "from statsmodels.stats.proportion import proportions_ztest\n",
        "\n",
        "# Hypothesis testing for proportions\n",
        "count = np.array([50, 65])  # Number of successes\n",
        "nobs = np.array([1000, 1000])  # Number of observations\n",
        "\n",
        "stat, p_value = proportions_ztest(count, nobs)\n",
        "print(f\"Z-statistic: {stat:.4f}\")\n",
        "print(f\"P-value: {p_value:.4f}\")\n",
        "\n",
        "if p_value < 0.05:\n",
        "    print(\"Reject null hypothesis - proportions are significantly different\")\n",
        "else:\n",
        "    print(\"Fail to reject null hypothesis - no significant difference\")\n"
      ]
    },
    {
      "cell_type": "markdown",
      "metadata": {},
      "source": [
        "## 4. Data Science Applications\n",
        "\n",
        "### 4.1 A/B Testing\n"
      ]
    },
    {
      "cell_type": "code",
      "execution_count": null,
      "metadata": {},
      "outputs": [],
      "source": [
        "from scipy import stats\n",
        "\n",
        "# Example: Website conversion rate testing\n",
        "# Control group: 1000 visitors, 50 conversions\n",
        "# Treatment group: 1000 visitors, 65 conversions\n",
        "\n",
        "n_control, success_control = 1000, 50\n",
        "n_treatment, success_treatment = 1000, 65\n",
        "\n",
        "# Calculate conversion rates\n",
        "p_control = success_control / n_control\n",
        "p_treatment = success_treatment / n_treatment\n",
        "\n",
        "print(f\"Control conversion rate: {p_control:.3f}\")\n",
        "print(f\"Treatment conversion rate: {p_treatment:.3f}\")\n",
        "\n",
        "# Statistical test\n",
        "p_value = stats.binomtest(success_treatment, n_treatment, p_control, 'two-sided').pvalue\n",
        "print(f\"\\nP-value (two-sided): {p_value:.4f}\")\n",
        "\n",
        "if p_value < 0.05:\n",
        "    print(\"Significant difference detected\")\n",
        "else:\n",
        "    print(\"No significant difference\")\n",
        "\n",
        "# One-sided test for improvement\n",
        "p_value_greater = stats.binomtest(success_treatment, n_treatment, p_control, 'greater').pvalue\n",
        "print(f\"\\nP-value (greater): {p_value_greater:.4f}\")\n",
        "\n",
        "if p_value_greater < 0.05:\n",
        "    print(\"Significant improvement detected\")\n",
        "else:\n",
        "    print(\"No significant improvement\")\n"
      ]
    },
    {
      "cell_type": "markdown",
      "metadata": {},
      "source": [
        "### 4.2 Quality Control\n"
      ]
    },
    {
      "cell_type": "code",
      "execution_count": null,
      "metadata": {},
      "outputs": [],
      "source": [
        "# Example: Manufacturing defect rate\n",
        "# Sample 100 items, expected defect rate 5%\n",
        "\n",
        "n, p = 100, 0.05\n",
        "\n",
        "# Probability of finding exactly 3 defects\n",
        "prob_3_defects = stats.binom.pmf(3, n, p)\n",
        "print(f\"P(3 defects) = {prob_3_defects:.4f}\")\n",
        "\n",
        "# Probability of finding 3 or fewer defects\n",
        "prob_3_or_fewer = stats.binom.cdf(3, n, p)\n",
        "print(f\"P(≤3 defects) = {prob_3_or_fewer:.4f}\")\n",
        "\n",
        "# 95% confidence interval\n",
        "ci_lower = stats.binom.ppf(0.025, n, p)\n",
        "ci_upper = stats.binom.ppf(0.975, n, p)\n",
        "print(f\"95% CI: [{ci_lower:.1f}, {ci_upper:.1f}]\")\n"
      ]
    },
    {
      "cell_type": "markdown",
      "metadata": {},
      "source": [
        "### 4.3 Survey Analysis\n"
      ]
    },
    {
      "cell_type": "code",
      "execution_count": null,
      "metadata": {},
      "outputs": [],
      "source": [
        "# Example: Political poll\n",
        "# 500 voters, 60% support candidate A\n",
        "\n",
        "n, p = 500, 0.6\n",
        "\n",
        "# Probability of getting exactly 300 supporters\n",
        "prob_300 = stats.binom.pmf(300, n, p)\n",
        "print(f\"P(300 supporters) = {prob_300:.4f}\")\n",
        "\n",
        "# Probability of getting 280-320 supporters\n",
        "prob_range = stats.binom.cdf(320, n, p) - stats.binom.cdf(279, n, p)\n",
        "print(f\"P(280-320 supporters) = {prob_range:.4f}\")\n",
        "\n",
        "# Expected value and standard deviation\n",
        "mean = n * p\n",
        "std = np.sqrt(n * p * (1-p))\n",
        "print(f\"Expected: {mean:.1f} ± {std:.1f}\")\n"
      ]
    }
  ],
  "metadata": {
    "language_info": {
      "name": "python"
    }
  },
  "nbformat": 4,
  "nbformat_minor": 2
}
